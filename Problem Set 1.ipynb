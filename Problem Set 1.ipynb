{
 "cells": [
  {
   "cell_type": "markdown",
   "id": "06e76af9",
   "metadata": {},
   "source": [
    "# Data Programming"
   ]
  },
  {
   "cell_type": "markdown",
   "id": "eb3318ad",
   "metadata": {},
   "source": [
    "## Problem Set 1"
   ]
  },
  {
   "cell_type": "markdown",
   "id": "a6fa5a6c",
   "metadata": {},
   "source": [
    "\n"
   ]
  },
  {
   "cell_type": "markdown",
   "id": "abfebcc5",
   "metadata": {},
   "source": [
    "### Question 1"
   ]
  },
  {
   "cell_type": "markdown",
   "id": "6691ac67",
   "metadata": {},
   "source": [
    "What data type is each of the following"
   ]
  },
  {
   "cell_type": "code",
   "execution_count": 5,
   "id": "efc9a773",
   "metadata": {},
   "outputs": [
    {
     "data": {
      "text/plain": [
       "int"
      ]
     },
     "execution_count": 5,
     "metadata": {},
     "output_type": "execute_result"
    }
   ],
   "source": [
    "type(5)"
   ]
  },
  {
   "cell_type": "code",
   "execution_count": 6,
   "id": "d1acc7ea",
   "metadata": {},
   "outputs": [
    {
     "data": {
      "text/plain": [
       "float"
      ]
     },
     "execution_count": 6,
     "metadata": {},
     "output_type": "execute_result"
    }
   ],
   "source": [
    "type(5.0)"
   ]
  },
  {
   "cell_type": "code",
   "execution_count": 7,
   "id": "fcbead80",
   "metadata": {},
   "outputs": [
    {
     "data": {
      "text/plain": [
       "bool"
      ]
     },
     "execution_count": 7,
     "metadata": {},
     "output_type": "execute_result"
    }
   ],
   "source": [
    "type(5>1)"
   ]
  },
  {
   "cell_type": "code",
   "execution_count": 8,
   "id": "951457c5",
   "metadata": {},
   "outputs": [
    {
     "data": {
      "text/plain": [
       "str"
      ]
     },
     "execution_count": 8,
     "metadata": {},
     "output_type": "execute_result"
    }
   ],
   "source": [
    "type('5')"
   ]
  },
  {
   "cell_type": "code",
   "execution_count": 9,
   "id": "699886e3",
   "metadata": {},
   "outputs": [
    {
     "data": {
      "text/plain": [
       "int"
      ]
     },
     "execution_count": 9,
     "metadata": {},
     "output_type": "execute_result"
    }
   ],
   "source": [
    "type(5 * 2)"
   ]
  },
  {
   "cell_type": "code",
   "execution_count": 11,
   "id": "f53729d3",
   "metadata": {},
   "outputs": [
    {
     "data": {
      "text/plain": [
       "str"
      ]
     },
     "execution_count": 11,
     "metadata": {},
     "output_type": "execute_result"
    }
   ],
   "source": [
    "type('5' * 2)"
   ]
  },
  {
   "cell_type": "code",
   "execution_count": 12,
   "id": "0c339bb1",
   "metadata": {},
   "outputs": [
    {
     "data": {
      "text/plain": [
       "str"
      ]
     },
     "execution_count": 12,
     "metadata": {},
     "output_type": "execute_result"
    }
   ],
   "source": [
    "type('5' + '2')"
   ]
  },
  {
   "cell_type": "code",
   "execution_count": 13,
   "id": "7755e41a",
   "metadata": {},
   "outputs": [
    {
     "data": {
      "text/plain": [
       "float"
      ]
     },
     "execution_count": 13,
     "metadata": {},
     "output_type": "execute_result"
    }
   ],
   "source": [
    "type(5 / 2)"
   ]
  },
  {
   "cell_type": "code",
   "execution_count": 14,
   "id": "0d7086bc",
   "metadata": {},
   "outputs": [
    {
     "data": {
      "text/plain": [
       "int"
      ]
     },
     "execution_count": 14,
     "metadata": {},
     "output_type": "execute_result"
    }
   ],
   "source": [
    "type(5 % 2)"
   ]
  },
  {
   "cell_type": "code",
   "execution_count": 16,
   "id": "9aef19b9",
   "metadata": {},
   "outputs": [
    {
     "data": {
      "text/plain": [
       "set"
      ]
     },
     "execution_count": 16,
     "metadata": {},
     "output_type": "execute_result"
    }
   ],
   "source": [
    "type({5, 2, 1})"
   ]
  },
  {
   "cell_type": "code",
   "execution_count": 17,
   "id": "a15cca01",
   "metadata": {},
   "outputs": [
    {
     "data": {
      "text/plain": [
       "bool"
      ]
     },
     "execution_count": 17,
     "metadata": {},
     "output_type": "execute_result"
    }
   ],
   "source": [
    "type(5 == 3)"
   ]
  },
  {
   "cell_type": "code",
   "execution_count": 21,
   "id": "15db46fc",
   "metadata": {},
   "outputs": [
    {
     "data": {
      "text/plain": [
       "float"
      ]
     },
     "execution_count": 21,
     "metadata": {},
     "output_type": "execute_result"
    }
   ],
   "source": [
    "Pi = 3.14; type(Pi)"
   ]
  },
  {
   "cell_type": "markdown",
   "id": "8aad8e94",
   "metadata": {},
   "source": [
    "Reference:\n",
    "\n",
    "int- Integer,\n",
    "str- String,\n",
    "bool- Boolian.\n"
   ]
  },
  {
   "cell_type": "markdown",
   "id": "4732e4d9",
   "metadata": {},
   "source": [
    "\n"
   ]
  },
  {
   "cell_type": "markdown",
   "id": "e043346d",
   "metadata": {},
   "source": [
    "### Question 2"
   ]
  },
  {
   "cell_type": "markdown",
   "id": "1a2a25f0",
   "metadata": {},
   "source": [
    "Write (and evaluate) python expressions that answer these questions:\n",
    "\n",
    "a. How many letters are there in 'Supercalifragilisticexpialidocious'?"
   ]
  },
  {
   "cell_type": "code",
   "execution_count": 33,
   "id": "66ddb6fd",
   "metadata": {},
   "outputs": [
    {
     "data": {
      "text/plain": [
       "34"
      ]
     },
     "execution_count": 33,
     "metadata": {},
     "output_type": "execute_result"
    }
   ],
   "source": [
    "w1 = 'Supercalifragilisticexpialidocious'; len(w1)"
   ]
  },
  {
   "cell_type": "markdown",
   "id": "4dc0dd54",
   "metadata": {},
   "source": [
    "'len' function determines the length of object. Hence the length of the word is 34."
   ]
  },
  {
   "cell_type": "markdown",
   "id": "7492815a",
   "metadata": {},
   "source": [
    "\n"
   ]
  },
  {
   "cell_type": "markdown",
   "id": "87c0ce89",
   "metadata": {},
   "source": [
    "b. Does 'Supercalifragilisticexpialidocious' contain 'ice' as a substring?"
   ]
  },
  {
   "cell_type": "code",
   "execution_count": 32,
   "id": "72d1240e",
   "metadata": {},
   "outputs": [
    {
     "data": {
      "text/plain": [
       "True"
      ]
     },
     "execution_count": 32,
     "metadata": {},
     "output_type": "execute_result"
    }
   ],
   "source": [
    "w2 ='ice'; w2 in w1"
   ]
  },
  {
   "cell_type": "markdown",
   "id": "97f5e496",
   "metadata": {},
   "source": [
    "The output \"True\" is the about line confirms the condition that ice is present in Supercalifragilisticexpialidocious."
   ]
  },
  {
   "cell_type": "markdown",
   "id": "e4e98dfb",
   "metadata": {},
   "source": [
    "  "
   ]
  },
  {
   "cell_type": "markdown",
   "id": "b56109f8",
   "metadata": {},
   "source": [
    "c. Which of the following words is the longest:\n",
    "Supercalifragilisticexpialidocious, Honorificabilitudinitatibus, or\n",
    "Bababadalgharaghtakamminarronnkonn?"
   ]
  },
  {
   "cell_type": "code",
   "execution_count": 28,
   "id": "9c2bea88",
   "metadata": {},
   "outputs": [
    {
     "data": {
      "text/plain": [
       "'Supercalifragilisticexpialidocious'"
      ]
     },
     "execution_count": 28,
     "metadata": {},
     "output_type": "execute_result"
    }
   ],
   "source": [
    "max('Supercalifragilisticexpialidocious', 'Honorificabilitudinitatibus', 'Bababadalgharaghtakamminarronnkonn')"
   ]
  },
  {
   "cell_type": "markdown",
   "id": "107e7908",
   "metadata": {},
   "source": [
    "'max' function eturns the largest of the objects. The longest word is Supercalifragilisticexpialidocious."
   ]
  },
  {
   "cell_type": "markdown",
   "id": "a5579b6f",
   "metadata": {},
   "source": [
    "  "
   ]
  },
  {
   "cell_type": "markdown",
   "id": "dd5e8840",
   "metadata": {},
   "source": [
    "d. Which composer comes first in the dictionary: 'Berlioz', 'Borodin', 'Brian', 'Bartok', 'Bellini', 'Buxtehude', 'Bernstein'. Which one comes last?"
   ]
  },
  {
   "cell_type": "code",
   "execution_count": 39,
   "id": "0772c39d",
   "metadata": {},
   "outputs": [
    {
     "name": "stdout",
     "output_type": "stream",
     "text": [
      "['Bartok', 'Bellini', 'Berlioz', 'Bernstein', 'Borodin', 'Brian', 'Buxtehude']\n"
     ]
    }
   ],
   "source": [
    "words = ['Berlioz', 'Borodin', 'Brian', 'Bartok', 'Bellini', 'Buxtehude', 'Bernstein'];\n",
    "words.sort()\n",
    "print(words)"
   ]
  },
  {
   "cell_type": "markdown",
   "id": "309e31eb",
   "metadata": {},
   "source": [
    "'sort()' function arranges alphabetically. "
   ]
  },
  {
   "cell_type": "markdown",
   "id": "9905219e",
   "metadata": {},
   "source": [
    "  "
   ]
  },
  {
   "cell_type": "markdown",
   "id": "4436eaea",
   "metadata": {},
   "source": [
    "### Question 3"
   ]
  },
  {
   "cell_type": "markdown",
   "id": "91a4a222",
   "metadata": {},
   "source": [
    "Implement function triangle Area(a,b,c) that takes as input the lengths of the 3\n",
    "sides of a triangle and returns the area of the triangle. By Heron's formula, the area\n",
    "of a triangle with side lengths a, b, and c is\n",
    "square root of (s(s - a)(s -b)(s -c)), where\n",
    "s = (a +b + c) /2 >>> triangleArea(2,2,2)\n",
    "1.7320508075688772"
   ]
  },
  {
   "cell_type": "code",
   "execution_count": 46,
   "id": "b7ed2a1a",
   "metadata": {},
   "outputs": [],
   "source": [
    "def area_of_triangle(a,b,c):\n",
    "    s = (a+b+c)/2;\n",
    "    area =  (s*(s - a)*(s -b)*(s -c))**(1/2);\n",
    "    print(area)"
   ]
  },
  {
   "cell_type": "code",
   "execution_count": 47,
   "id": "40d7326c",
   "metadata": {},
   "outputs": [
    {
     "name": "stdout",
     "output_type": "stream",
     "text": [
      "1.7320508075688772\n"
     ]
    }
   ],
   "source": [
    "area_of_triangle(2,2,2)"
   ]
  },
  {
   "cell_type": "markdown",
   "id": "5f919789",
   "metadata": {},
   "source": [
    "In this a new function is defined on line 46 which is based on the formula."
   ]
  },
  {
   "cell_type": "markdown",
   "id": "cbfab74e",
   "metadata": {},
   "source": [
    "  "
   ]
  },
  {
   "cell_type": "markdown",
   "id": "16a493f4",
   "metadata": {},
   "source": [
    "### Question 4"
   ]
  },
  {
   "cell_type": "markdown",
   "id": "947a54a7",
   "metadata": {},
   "source": [
    "Write a program in python to separate odd and even integers in separate arrays. Go\n",
    "to the editor\n",
    "Test Data :\n",
    "Input the number of elements to be stored in the array :5\n",
    "Input 5 elements in the array :\n",
    "element - 0 : 25\n",
    "element - 1 : 47\n",
    "element - 2 : 42\n",
    "element - 3 : 56\n",
    "element - 4 : 32\n",
    "Expected Output:\n",
    "The Even elements are:\n",
    "42 56 32\n",
    "The Odd elements are :\n",
    "25 47"
   ]
  },
  {
   "cell_type": "code",
   "execution_count": 51,
   "id": "8f11182b",
   "metadata": {},
   "outputs": [
    {
     "name": "stdout",
     "output_type": "stream",
     "text": [
      "Input the number of elements to be stored in the array : 5\n",
      "Enter the 5 elements in the array : \n",
      "25\n",
      "47\n",
      "42\n",
      "56\n",
      "32\n",
      "Even List:  [42, 56, 32]\n",
      "Odd List:  [25, 47]\n"
     ]
    }
   ],
   "source": [
    "def evenoddsplit(A):\n",
    "    evenlist = []\n",
    "    oddlist = []\n",
    "    \n",
    "    for i in A:\n",
    "        if (i % 2 == 0):\n",
    "            evenlist.append(i)\n",
    "        else:\n",
    "            oddlist.append(i)\n",
    "    print(\"Even List: \", evenlist)\n",
    "    print(\"Odd List: \", oddlist)\n",
    "    \n",
    "A = list()\n",
    "n = int(input(\"Input the number of elements to be stored in the array : \"))\n",
    "print(\"Enter the 5 elements in the array : \")\n",
    "for i in range (int(n)):\n",
    "    k = int(input(\"\"))\n",
    "    A.append(k)\n",
    "\n",
    "evenoddsplit(A)\n"
   ]
  },
  {
   "cell_type": "markdown",
   "id": "15888217",
   "metadata": {},
   "source": [
    "  "
   ]
  },
  {
   "cell_type": "markdown",
   "id": "2e4bac2c",
   "metadata": {},
   "source": [
    "### Question 5"
   ]
  },
  {
   "cell_type": "markdown",
   "id": "08a3c03c",
   "metadata": {},
   "source": [
    "a. Write a function inside(x,y,x1,y1,x2,y2) that returns True or False depending on whether the point (x,y) lies in the rectangle with lower left corner (x1,y1) and upper right corner (x2,y2).\n",
    "\n",
    "--> inside(1,1,0,0,2,3)\n",
    "True\n",
    "\n",
    "--> inside(-1,-1,0,0,2,3)\n",
    "False"
   ]
  },
  {
   "cell_type": "code",
   "execution_count": 57,
   "id": "e736b19d",
   "metadata": {},
   "outputs": [],
   "source": [
    "def inside(x,y,x1,y1,x2,y2):\n",
    "    if x1 <= x <= x2 and y1 <= y <= y2:\n",
    "        return True\n",
    "    else:\n",
    "        return False"
   ]
  },
  {
   "cell_type": "code",
   "execution_count": 58,
   "id": "6167cb7b",
   "metadata": {},
   "outputs": [
    {
     "data": {
      "text/plain": [
       "True"
      ]
     },
     "execution_count": 58,
     "metadata": {},
     "output_type": "execute_result"
    }
   ],
   "source": [
    "inside(1,1,0,0,2,3)"
   ]
  },
  {
   "cell_type": "code",
   "execution_count": 59,
   "id": "a97ead49",
   "metadata": {},
   "outputs": [
    {
     "data": {
      "text/plain": [
       "False"
      ]
     },
     "execution_count": 59,
     "metadata": {},
     "output_type": "execute_result"
    }
   ],
   "source": [
    "inside(-1,-1,0,0,2,3)"
   ]
  },
  {
   "cell_type": "markdown",
   "id": "13d35bd0",
   "metadata": {},
   "source": [
    "  "
   ]
  },
  {
   "cell_type": "markdown",
   "id": "b5d27bda",
   "metadata": {},
   "source": [
    "b. Use function inside() from part a. to write an expression that tests whether the point (1,1) lies in both of the following rectangles: one with lower left corner (0.3, 0.5) and upper right corner (1.1, 0.7) and the other with lower left corner (0.5, 0.2) and upper right corner (1.1, 2)."
   ]
  },
  {
   "cell_type": "code",
   "execution_count": 60,
   "id": "ce740a8c",
   "metadata": {},
   "outputs": [
    {
     "data": {
      "text/plain": [
       "False"
      ]
     },
     "execution_count": 60,
     "metadata": {},
     "output_type": "execute_result"
    }
   ],
   "source": [
    "inside(1,1,0.3,0.5,1.1,0.7)"
   ]
  },
  {
   "cell_type": "code",
   "execution_count": 61,
   "id": "492a7a01",
   "metadata": {},
   "outputs": [
    {
     "data": {
      "text/plain": [
       "True"
      ]
     },
     "execution_count": 61,
     "metadata": {},
     "output_type": "execute_result"
    }
   ],
   "source": [
    "inside(1,1,0.5,0.2,1.1,2)"
   ]
  },
  {
   "cell_type": "markdown",
   "id": "ca35dab4",
   "metadata": {},
   "source": [
    "  "
   ]
  },
  {
   "cell_type": "markdown",
   "id": "e8e7bd1a",
   "metadata": {},
   "source": [
    "### Question 6"
   ]
  },
  {
   "cell_type": "markdown",
   "id": "6112728e",
   "metadata": {},
   "source": [
    "You can turn a word into pig-Latin using the following two rules (simplified):\n",
    "\n",
    "• If the word starts with a consonant, move that letter to the end and append 'ay'. For example, 'happy' becomes 'appyhay' and 'pencil' becomes 'encilpay'. <br>\n",
    "• If the word starts with a vowel, simply append 'way' to the end of the word. For example, 'enter' becomes 'enterway' and 'other' becomes 'otherway' . For our purposes, there are 5 vowels: a, e, i, o, u (so we count y as a consonant).\n",
    "\n",
    "Write a function pig() that takes a word (i.e., a string) as input and returns its pig-Latin form. Your function should still work if the input word contains upper case characters. Your output should always be lower case however."
   ]
  },
  {
   "cell_type": "code",
   "execution_count": 72,
   "id": "afc6810f",
   "metadata": {},
   "outputs": [],
   "source": [
    "def pig(word):\n",
    "    vowels = ['a', 'e', 'i', 'o', 'u']\n",
    "    word = word.lower()\n",
    "    if word[0] in vowels:\n",
    "        return word + 'way'\n",
    "    else:\n",
    "        return word[1:] + word[0] + 'ay'"
   ]
  },
  {
   "cell_type": "code",
   "execution_count": 73,
   "id": "d41d6ed8",
   "metadata": {},
   "outputs": [
    {
     "data": {
      "text/plain": [
       "'appyhay'"
      ]
     },
     "execution_count": 73,
     "metadata": {},
     "output_type": "execute_result"
    }
   ],
   "source": [
    "pig(\"happy\")"
   ]
  },
  {
   "cell_type": "code",
   "execution_count": 74,
   "id": "896cc788",
   "metadata": {},
   "outputs": [
    {
     "data": {
      "text/plain": [
       "'enterway'"
      ]
     },
     "execution_count": 74,
     "metadata": {},
     "output_type": "execute_result"
    }
   ],
   "source": [
    "pig(\"Enter\")"
   ]
  },
  {
   "cell_type": "markdown",
   "id": "3da55d25",
   "metadata": {},
   "source": [
    "  "
   ]
  },
  {
   "cell_type": "markdown",
   "id": "9cf02733",
   "metadata": {},
   "source": [
    "### Question 7"
   ]
  },
  {
   "cell_type": "markdown",
   "id": "422862a8",
   "metadata": {},
   "source": [
    "File bloodtype1.txt records blood-types of patients (A, B, AB, O or OO) at a clinic. Write a function bldcount() that reads the file with name name and reports (i.e., prints) how many patients there are in each bloodtype.\n",
    "\n",
    "--> bldcount('bloodtype.txt') <br>\n",
    "There are 10 patients of blood type A. <br>\n",
    "There is one patient of blood type B. <br>\n",
    "There are 10 patients of blood type AB. <br>\n",
    "There are 12 patients of blood type O. <br>\n",
    "There are no patients of blood type OO. <br>"
   ]
  },
  {
   "cell_type": "code",
   "execution_count": 9,
   "id": "68cd0cb0",
   "metadata": {},
   "outputs": [],
   "source": [
    "def bldcount(name):\n",
    "    data = open(name, 'r')\n",
    "    contents = data.read()\n",
    "    data.close()\n",
    "    contents = contents.split()\n",
    "    bloodtypes = [\"A\", \"B\", \"AB\", \"O\", \"OO\"]\n",
    "    for i in bloodtypes:\n",
    "        if contents.count(i)==0:\n",
    "            print('There are no patients of bloodtype', i+'.')\n",
    "        elif contents.count(i)==1:\n",
    "            print('There is one patients of bloodtype', i+'.')\n",
    "        else:\n",
    "            print('There are', contents.count(i), 'patients of bloodtype', i+'.')\n",
    "\n",
    "\n"
   ]
  },
  {
   "cell_type": "code",
   "execution_count": 10,
   "id": "75d63236",
   "metadata": {},
   "outputs": [
    {
     "name": "stdout",
     "output_type": "stream",
     "text": [
      "There are 15 patients of bloodtype A.\n",
      "There is one patients of bloodtype B.\n",
      "There are 13 patients of bloodtype AB.\n",
      "There are 15 patients of bloodtype O.\n",
      "There are no patients of bloodtype OO.\n"
     ]
    }
   ],
   "source": [
    "bldcount('bloodtype1.txt')"
   ]
  },
  {
   "cell_type": "markdown",
   "id": "96c090b3",
   "metadata": {},
   "source": [
    "  \n",
    " "
   ]
  },
  {
   "cell_type": "markdown",
   "id": "be7d7196",
   "metadata": {},
   "source": [
    "### Question 8"
   ]
  },
  {
   "cell_type": "markdown",
   "id": "31424b05",
   "metadata": {},
   "source": [
    "Write a function curconv() that takes as input:\n",
    "\n",
    "1. a currency represented using a string (e.g., 'JPY' for the Japanese Yen or 'EUR' for the Euro) <br>\n",
    "2. an amount <br>\n",
    "and then converts and returns the amount in US dollars."
   ]
  },
  {
   "cell_type": "code",
   "execution_count": 109,
   "id": "6b23df52",
   "metadata": {},
   "outputs": [],
   "source": [
    "def curconv(currency, amount):\n",
    "    exchange_rate = {}\n",
    "    with open('currencies.txt', 'r') as data:\n",
    "        for line in data:\n",
    "            content = line.strip().split()\n",
    "            curr = content[0]\n",
    "            rate = content[1]\n",
    "            exchange_rate[curr] = float(rate)\n",
    "            \n",
    "    if currency in exchange_rate:\n",
    "        return amount * exchange_rate[currency]\n",
    "    else:\n",
    "        return \"Error\" "
   ]
  },
  {
   "cell_type": "code",
   "execution_count": 110,
   "id": "83d2224c",
   "metadata": {},
   "outputs": [
    {
     "data": {
      "text/plain": [
       "122.96544"
      ]
     },
     "execution_count": 110,
     "metadata": {},
     "output_type": "execute_result"
    }
   ],
   "source": [
    "curconv('EUR', 100)"
   ]
  },
  {
   "cell_type": "code",
   "execution_count": 111,
   "id": "eaa63a73",
   "metadata": {},
   "outputs": [
    {
     "data": {
      "text/plain": [
       "1.241401"
      ]
     },
     "execution_count": 111,
     "metadata": {},
     "output_type": "execute_result"
    }
   ],
   "source": [
    "curconv('JPY', 100)"
   ]
  },
  {
   "cell_type": "markdown",
   "id": "a1d39947",
   "metadata": {},
   "source": [
    "  "
   ]
  },
  {
   "cell_type": "markdown",
   "id": "0037762e",
   "metadata": {},
   "source": [
    "### Question 9"
   ]
  },
  {
   "cell_type": "markdown",
   "id": "485f9c76",
   "metadata": {},
   "source": [
    "Each of the following will cause an exception (an error). Identify what type of exception each will cause."
   ]
  },
  {
   "cell_type": "code",
   "execution_count": 93,
   "id": "01122c1d",
   "metadata": {},
   "outputs": [
    {
     "ename": "SyntaxError",
     "evalue": "invalid character '‘' (U+2018) (1021792593.py, line 1)",
     "output_type": "error",
     "traceback": [
      "\u001b[1;36m  File \u001b[1;32m\"C:\\Users\\yasas\\AppData\\Local\\Temp\\ipykernel_4652\\1021792593.py\"\u001b[1;36m, line \u001b[1;32m1\u001b[0m\n\u001b[1;33m    6 + ‘a’\u001b[0m\n\u001b[1;37m        ^\u001b[0m\n\u001b[1;31mSyntaxError\u001b[0m\u001b[1;31m:\u001b[0m invalid character '‘' (U+2018)\n"
     ]
    }
   ],
   "source": [
    "6 + ‘a’"
   ]
  },
  {
   "cell_type": "markdown",
   "id": "5621ecb0",
   "metadata": {},
   "source": [
    "Unsupported type"
   ]
  },
  {
   "cell_type": "markdown",
   "id": "e7b02799",
   "metadata": {},
   "source": [
    "  "
   ]
  },
  {
   "cell_type": "markdown",
   "id": "392feae7",
   "metadata": {},
   "source": [
    "Referring to the 12\n",
    "th item of a list that has only 10\n",
    "items <br>\n",
    "NameError: Out of index"
   ]
  },
  {
   "cell_type": "markdown",
   "id": "08e12b47",
   "metadata": {},
   "source": [
    "  "
   ]
  },
  {
   "cell_type": "code",
   "execution_count": 18,
   "id": "851a3614",
   "metadata": {},
   "outputs": [
    {
     "ename": "NameError",
     "evalue": "name 'math' is not defined",
     "output_type": "error",
     "traceback": [
      "\u001b[1;31m---------------------------------------------------------------------------\u001b[0m",
      "\u001b[1;31mNameError\u001b[0m                                 Traceback (most recent call last)",
      "\u001b[1;32m~\\AppData\\Local\\Temp\\ipykernel_13104\\1524965344.py\u001b[0m in \u001b[0;36m<module>\u001b[1;34m\u001b[0m\n\u001b[1;32m----> 1\u001b[1;33m \u001b[0mmath\u001b[0m\u001b[1;33m.\u001b[0m\u001b[0msqrt\u001b[0m\u001b[1;33m(\u001b[0m \u001b[1;33m-\u001b[0m\u001b[1;36m1.0\u001b[0m\u001b[1;33m)\u001b[0m\u001b[1;33m\u001b[0m\u001b[1;33m\u001b[0m\u001b[0m\n\u001b[0m",
      "\u001b[1;31mNameError\u001b[0m: name 'math' is not defined"
     ]
    }
   ],
   "source": [
    "math.sqrt( -1.0)"
   ]
  },
  {
   "cell_type": "markdown",
   "id": "c89f5aa8",
   "metadata": {},
   "source": [
    "domain error"
   ]
  },
  {
   "cell_type": "markdown",
   "id": "59f1080a",
   "metadata": {},
   "source": [
    "  "
   ]
  },
  {
   "cell_type": "code",
   "execution_count": 19,
   "id": "d5d42742",
   "metadata": {},
   "outputs": [
    {
     "ename": "NameError",
     "evalue": "name 'x' is not defined",
     "output_type": "error",
     "traceback": [
      "\u001b[1;31m---------------------------------------------------------------------------\u001b[0m",
      "\u001b[1;31mNameError\u001b[0m                                 Traceback (most recent call last)",
      "\u001b[1;32m~\\AppData\\Local\\Temp\\ipykernel_13104\\1353120783.py\u001b[0m in \u001b[0;36m<module>\u001b[1;34m\u001b[0m\n\u001b[1;32m----> 1\u001b[1;33m \u001b[0mprint\u001b[0m\u001b[1;33m(\u001b[0m\u001b[0mx\u001b[0m\u001b[1;33m)\u001b[0m\u001b[1;33m\u001b[0m\u001b[1;33m\u001b[0m\u001b[0m\n\u001b[0m",
      "\u001b[1;31mNameError\u001b[0m: name 'x' is not defined"
     ]
    }
   ],
   "source": [
    "print(x)"
   ]
  },
  {
   "cell_type": "markdown",
   "id": "4274fa1e",
   "metadata": {},
   "source": [
    "variable not defined"
   ]
  },
  {
   "cell_type": "markdown",
   "id": "06438606",
   "metadata": {},
   "source": [
    "  "
   ]
  },
  {
   "cell_type": "markdown",
   "id": "dae7b68a",
   "metadata": {},
   "source": [
    "Trying to open a file that does not exist, such as\n",
    "mistyping the file name or looking in the wrong\n",
    "directory."
   ]
  },
  {
   "cell_type": "code",
   "execution_count": 11,
   "id": "4840385a",
   "metadata": {},
   "outputs": [
    {
     "ename": "FileNotFoundError",
     "evalue": "[Errno 2] No such file or directory: 'ramdom.txt'",
     "output_type": "error",
     "traceback": [
      "\u001b[1;31m---------------------------------------------------------------------------\u001b[0m",
      "\u001b[1;31mFileNotFoundError\u001b[0m                         Traceback (most recent call last)",
      "\u001b[1;32m~\\AppData\\Local\\Temp\\ipykernel_13104\\2870085125.py\u001b[0m in \u001b[0;36m<module>\u001b[1;34m\u001b[0m\n\u001b[1;32m----> 1\u001b[1;33m \u001b[0mopen\u001b[0m\u001b[1;33m(\u001b[0m\u001b[1;34m'ramdom.txt'\u001b[0m\u001b[1;33m)\u001b[0m\u001b[1;33m\u001b[0m\u001b[1;33m\u001b[0m\u001b[0m\n\u001b[0m",
      "\u001b[1;31mFileNotFoundError\u001b[0m: [Errno 2] No such file or directory: 'ramdom.txt'"
     ]
    }
   ],
   "source": [
    "open('ramdom.txt')"
   ]
  },
  {
   "cell_type": "markdown",
   "id": "aab9225c",
   "metadata": {},
   "source": [
    "No such directory found"
   ]
  },
  {
   "cell_type": "markdown",
   "id": "814519f5",
   "metadata": {},
   "source": [
    "  "
   ]
  },
  {
   "cell_type": "markdown",
   "id": "ee3fcd8c",
   "metadata": {},
   "source": [
    "### Question 10"
   ]
  },
  {
   "cell_type": "markdown",
   "id": "29604fd9",
   "metadata": {},
   "source": [
    "Encryption is the process of hiding the meaning of a text by substituting letters in the message with other letters, according to some system. If the process is successful, no one but the intended recipient can understand the encrypted message. Cryptanalysis refers to attempts to undo the encryption, even if some details of the encryption are unknown (for example, if an encrypted message has been intercepted). The first step of cryptanalysis is often to build up a table of letter frequencies in the encrypted text. Assume that the string letters is already defined as 'abcdefghijklmnopqrstuvwxyz'. Write a function called frequencies() that takes a string as its only parameter, and returns a list of integers, showing the number of times each character appears in the text. Your function may ignore any characters that are not in letters.\n",
    "\n",
    "--> frequencies('The quick red fox got bored and went home.')\n",
    "[1, 1, 1, 3, 5, 1, 1, 2, 1, 0, 1, 0, 1, 2, 4, 0, 1, 2, 0, 2, 1, 0, 1, 1, 0, 0]  <br>\n",
    "--> frequencies('apple')"
   ]
  },
  {
   "cell_type": "code",
   "execution_count": 112,
   "id": "200bac37",
   "metadata": {},
   "outputs": [],
   "source": [
    "def frequencies(text):\n",
    "    letters = 'abcdefghijklmnopqrstuvwxyz'\n",
    "    freq_list = [0] * 26\n",
    "    for char in text:\n",
    "        if char in letters:\n",
    "            freq_list[ord(char) - ord('a')] += 1\n",
    "    return freq_list"
   ]
  },
  {
   "cell_type": "code",
   "execution_count": 113,
   "id": "d2264126",
   "metadata": {},
   "outputs": [
    {
     "data": {
      "text/plain": [
       "[1, 1, 1, 3, 5, 1, 1, 2, 1, 0, 1, 0, 1, 2, 4, 0, 1, 2, 0, 2, 1, 0, 1, 1, 0, 0]"
      ]
     },
     "execution_count": 113,
     "metadata": {},
     "output_type": "execute_result"
    }
   ],
   "source": [
    "frequencies('The quick red fox got bored and went home.')"
   ]
  },
  {
   "cell_type": "code",
   "execution_count": 115,
   "id": "b81bca8e",
   "metadata": {},
   "outputs": [
    {
     "data": {
      "text/plain": [
       "[1, 0, 0, 0, 1, 0, 0, 0, 0, 0, 0, 1, 0, 0, 0, 2, 0, 0, 0, 0, 0, 0, 0, 0, 0, 0]"
      ]
     },
     "execution_count": 115,
     "metadata": {},
     "output_type": "execute_result"
    }
   ],
   "source": [
    "frequencies('apple')"
   ]
  }
 ],
 "metadata": {
  "kernelspec": {
   "display_name": "Python 3 (ipykernel)",
   "language": "python",
   "name": "python3"
  },
  "language_info": {
   "codemirror_mode": {
    "name": "ipython",
    "version": 3
   },
   "file_extension": ".py",
   "mimetype": "text/x-python",
   "name": "python",
   "nbconvert_exporter": "python",
   "pygments_lexer": "ipython3",
   "version": "3.9.13"
  }
 },
 "nbformat": 4,
 "nbformat_minor": 5
}
